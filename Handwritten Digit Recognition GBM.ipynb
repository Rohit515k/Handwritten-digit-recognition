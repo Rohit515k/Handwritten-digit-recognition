{
 "cells": [
  {
   "cell_type": "code",
   "execution_count": 3,
   "id": "2316b261-870d-40b5-9358-7d759ed5c5c4",
   "metadata": {},
   "outputs": [
    {
     "name": "stdout",
     "output_type": "stream",
     "text": [
      "Gradient Boosting Machine Training Accuracy: 99.94%\n",
      "Gradient Boosting Machine Testing Accuracy: 91.23%\n"
     ]
    }
   ],
   "source": [
    "import numpy as np\n",
    "from sklearn.ensemble import GradientBoostingClassifier\n",
    "from sklearn.metrics import accuracy_score\n",
    "from tensorflow.keras.datasets import mnist\n",
    "import warnings\n",
    "warnings.filterwarnings('ignore')\n",
    "\n",
    "# Global Variables\n",
    "training_size = 5000\n",
    "testing_size = 10000\n",
    "\n",
    "# Load MNIST dataset\n",
    "(train_images, train_labels), (test_images, test_labels) = mnist.load_data()\n",
    "\n",
    "# Flatten images\n",
    "train_images = train_images[:training_size].reshape(training_size, -1) / 255.0\n",
    "train_labels = train_labels[:training_size]\n",
    "test_images = test_images[:testing_size].reshape(testing_size, -1) / 255.0\n",
    "test_labels = test_labels[:testing_size]\n",
    "\n",
    "# Initialize and train the GBM\n",
    "clf = GradientBoostingClassifier(n_estimators=100random_index = np.random.randint(0, len(test_images))\n",
    "image = test_images[random_index].reshape(1, -1)  # Flatten the image\n",
    "\n",
    "# Perform prediction\n",
    "predicted_label = clf.predict(image)[0]\n",
    "\n",
    "print(f\"Randomly Selected Image Index: {random_index}\")\n",
    "print(f\"True Label: {test_labels[random_index]}\")\n",
    "print(f\"Predicted Label: {predicted_label}\"), learning_rate=0.1, random_state=0)\n",
    "clf.fit(train_images, train_labels)\n",
    "\n",
    "# Predict and evaluate\n",
    "train_predictions = clf.predict(train_images)\n",
    "test_predictions = clf.predict(test_images)\n",
    "\n",
    "train_accuracy = accuracy_score(train_labels, train_predictions)\n",
    "test_accuracy = accuracy_score(test_labels, test_predictions)\n",
    "\n",
    "print(f'Gradient Boosting Machine Training Accuracy: {train_accuracy * 100:.2f}%')\n",
    "print(f'Gradient Boosting Machine Testing Accuracy: {test_accuracy * 100:.2f}%')\n"
   ]
  },
  {
   "cell_type": "code",
   "execution_count": 7,
   "id": "deb1959a-2177-4eb8-91d1-a4a81daa4504",
   "metadata": {},
   "outputs": [
    {
     "name": "stdout",
     "output_type": "stream",
     "text": [
      "Randomly Selected Image Index: 4019\n",
      "True Label: 6\n",
      "Predicted Label: 6\n"
     ]
    }
   ],
   "source": [
    "random_index = np.random.randint(0, len(test_images))\n",
    "image = test_images[random_index].reshape(1, -1)  # Flatten the image\n",
    "\n",
    "# Perform prediction\n",
    "predicted_label = clf.predict(image)[0]\n",
    "\n",
    "print(f\"Randomly Selected Image Index: {random_index}\")\n",
    "print(f\"True Label: {test_labels[random_index]}\")\n",
    "print(f\"Predicted Label: {predicted_label}\")"
   ]
  },
  {
   "cell_type": "code",
   "execution_count": null,
   "id": "76086813-85b2-4754-a0f6-ac796dd9cbb6",
   "metadata": {},
   "outputs": [],
   "source": []
  }
 ],
 "metadata": {
  "kernelspec": {
   "display_name": "Python 3 (ipykernel)",
   "language": "python",
   "name": "python3"
  },
  "language_info": {
   "codemirror_mode": {
    "name": "ipython",
    "version": 3
   },
   "file_extension": ".py",
   "mimetype": "text/x-python",
   "name": "python",
   "nbconvert_exporter": "python",
   "pygments_lexer": "ipython3",
   "version": "3.12.3"
  }
 },
 "nbformat": 4,
 "nbformat_minor": 5
}
